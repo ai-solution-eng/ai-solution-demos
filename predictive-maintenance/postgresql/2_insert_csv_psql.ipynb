{
 "cells": [
  {
   "cell_type": "code",
   "execution_count": 1,
   "id": "94b54713-500e-4ecb-9b9b-a36951ed197e",
   "metadata": {},
   "outputs": [],
   "source": [
    "import psycopg\n",
    "import pandas as pd"
   ]
  },
  {
   "cell_type": "code",
   "execution_count": 2,
   "id": "f65ee003-c8f8-4582-b607-053d8b7c5963",
   "metadata": {},
   "outputs": [],
   "source": [
    "host='postgresql.postgresql.svc.cluster.local'\n",
    "dbname='stapp'\n",
    "user = 'stapp'\n",
    "password = 'stapp123'\n",
    "port = '5432'"
   ]
  },
  {
   "cell_type": "code",
   "execution_count": 3,
   "id": "642097de-9119-4877-976d-72c6b802de8f",
   "metadata": {},
   "outputs": [],
   "source": [
    "conn = psycopg.connect(\n",
    "    f\"host={host} dbname={dbname} user={user} password={password} port={port}\"\n",
    ") "
   ]
  },
  {
   "cell_type": "code",
   "execution_count": 4,
   "id": "559ed566-ea68-41cc-94de-01a859243f2c",
   "metadata": {},
   "outputs": [],
   "source": [
    "conn.autocommit = True"
   ]
  },
  {
   "cell_type": "code",
   "execution_count": 5,
   "id": "a699f42b-06a2-4f69-bb38-6c97f56db25b",
   "metadata": {},
   "outputs": [],
   "source": [
    "cursor = conn.cursor()"
   ]
  },
  {
   "cell_type": "code",
   "execution_count": 6,
   "id": "15d5b0b0-303a-4747-8538-6eade0faa8b9",
   "metadata": {},
   "outputs": [
    {
     "data": {
      "text/plain": [
       "<psycopg.Cursor [COMMAND_OK] [IDLE] (host=postgresql.postgresql.svc.cluster.local database=stapp) at 0x7f2794c7e560>"
      ]
     },
     "execution_count": 6,
     "metadata": {},
     "output_type": "execute_result"
    }
   ],
   "source": [
    "table_name = 'tickets'\n",
    "CREATE_TABLE=f'CREATE TABLE {table_name} ( \"ticketList_subject\" varchar,\"ticketList_detailproblem\" varchar, \"ticketList_source_cause\" varchar(50), \"ticketList_product_category\" varchar(30), \"ticketList_downtime\" varchar(30),\"ticketList_resolution\" varchar, \"ticketList_mttrall\" real )'\n",
    "cursor.execute(CREATE_TABLE)"
   ]
  },
  {
   "cell_type": "code",
   "execution_count": 7,
   "id": "2c45f9c2-1ae9-4f27-b25c-97cb31790e5e",
   "metadata": {},
   "outputs": [],
   "source": [
    "ticket_df = pd.read_csv('./test-tickets.csv',low_memory=False)\n",
    "selected_column = ['ticketList_subject', 'ticketList_detailproblem','ticketList_source_cause','ticketList_product_category','ticketList_downtime','ticketList_resolution','ticketList_mttrall']\n",
    "data = ticket_df[selected_column]"
   ]
  },
  {
   "cell_type": "code",
   "execution_count": 8,
   "id": "992f08dd-3a11-42f0-b83c-1ccd746ff300",
   "metadata": {},
   "outputs": [],
   "source": [
    "output_file = 'test_tickets_selected.csv'\n",
    "data.to_csv(output_file, index=False)"
   ]
  },
  {
   "cell_type": "code",
   "execution_count": 9,
   "id": "32bff0a9-580e-46fa-971c-d0949aa111a3",
   "metadata": {},
   "outputs": [],
   "source": [
    "COPY_CSV = f\"COPY {table_name} FROM stdin (delimiter ',' , format csv, quote '\\\"', header) \"\n",
    "with open(output_file,'r') as file: \n",
    "    with cursor.copy(COPY_CSV) as copy:\n",
    "        copy.write(file.read())"
   ]
  },
  {
   "cell_type": "code",
   "execution_count": 10,
   "id": "cdc52e66-25ad-4ff0-948d-363982892078",
   "metadata": {},
   "outputs": [
    {
     "data": {
      "text/plain": [
       "<psycopg.Cursor [TUPLES_OK] [IDLE] (host=postgresql.postgresql.svc.cluster.local database=stapp) at 0x7f2794c7e560>"
      ]
     },
     "execution_count": 10,
     "metadata": {},
     "output_type": "execute_result"
    }
   ],
   "source": [
    "QUERY_TABLE = f'SELECT * FROM {table_name} LIMIT 10'\n",
    "cursor.execute(QUERY_TABLE)"
   ]
  },
  {
   "cell_type": "code",
   "execution_count": 11,
   "id": "5b105d78-21a2-4cfa-9c56-50180bd50d49",
   "metadata": {},
   "outputs": [
    {
     "name": "stdout",
     "output_type": "stream",
     "text": [
      "('LINK TechnoSoft Solutions 100 MBPS SERVICE REQUEST', 'SERVICE REQUEST LIMITATION', 'FIBER OPTIC PROBLEM', 'NON GPON', '04/15/2024 02:45', 'Service restored after technical intervention', 30.01)\n",
      "('LINK Digital Dynamics Inc 547 MBPS SERVICE REQUEST', 'No Problem at MTI side', 'SERVICE REQUEST', 'GPON', '03/29/2024 00:35', 'Service restored after technical intervention', 376.74)\n",
      "('LINK ACME Corp Ltd 734 MBPS SERVICE REQUEST', 'No Problem at MTI side', 'SERVICE REQUEST', 'GPON', '04/12/2024 14:36', 'Service restored after technical intervention', 331.04)\n",
      "('LINK Digital Dynamics Inc 778 MBPS SERVICE REQUEST', 'SERVICE REQUEST LIMITATION', 'SERVICE REQUEST', 'GPON', '04/09/2024 19:11', 'Service restored after technical intervention', 231.57)\n",
      "('LINK TechnoSoft Solutions 487 MBPS SERVICE REQUEST', 'Link back to normal', 'EQUIPMENT PROBLEM', 'NON GPON', '04/08/2024 16:35', 'Service restored after technical intervention', 111.06)\n",
      "('LINK ACME Corp Ltd 659 MBPS SERVICE REQUEST', 'Link back to normal', 'SERVICE REQUEST', 'NON GPON', '04/06/2024 09:22', 'Service restored after technical intervention', 493.17)\n",
      "('LINK Enterprise Systems Co 170 MBPS SERVICE REQUEST', 'Link back to normal', 'SERVICE REQUEST', 'NON GPON', '03/31/2024 21:36', 'Service restored after technical intervention', 399.17)\n",
      "('LINK Global Networks Ltd 525 MBPS SERVICE REQUEST', 'Link back to normal', 'EQUIPMENT PROBLEM', 'NON GPON', '04/07/2024 14:31', 'Service restored after technical intervention', 472.78)\n",
      "('LINK Global Networks Ltd 391 MBPS SERVICE REQUEST', 'No Problem at MTI side', 'SERVICE REQUEST', 'NON GPON', '03/21/2024 11:06', 'Service restored after technical intervention', 153.48)\n",
      "('LINK Digital Dynamics Inc 586 MBPS SERVICE REQUEST', 'SERVICE REQUEST LIMITATION', 'SERVICE REQUEST', 'GPON', '04/03/2024 14:25', 'Service restored after technical intervention', 177.65)\n"
     ]
    }
   ],
   "source": [
    "datas = cursor.fetchall()\n",
    "for row in datas:\n",
    "    print(row)"
   ]
  },
  {
   "cell_type": "code",
   "execution_count": 12,
   "id": "0fd6dbce-c02a-4947-ac8c-af7d21540039",
   "metadata": {},
   "outputs": [
    {
     "data": {
      "text/plain": [
       "<psycopg.Cursor [TUPLES_OK] [IDLE] (host=postgresql.postgresql.svc.cluster.local database=stapp) at 0x7f2794c7e560>"
      ]
     },
     "execution_count": 12,
     "metadata": {},
     "output_type": "execute_result"
    }
   ],
   "source": [
    "cursor.execute('SELECT count(*) FROM tickets')"
   ]
  },
  {
   "cell_type": "code",
   "execution_count": 13,
   "id": "94c16843-6a12-481d-bb55-3d5c7cf3a89f",
   "metadata": {},
   "outputs": [
    {
     "data": {
      "text/plain": [
       "[(50,)]"
      ]
     },
     "execution_count": 13,
     "metadata": {},
     "output_type": "execute_result"
    }
   ],
   "source": [
    "cursor.fetchall()"
   ]
  },
  {
   "cell_type": "code",
   "execution_count": 14,
   "id": "983305c7-01dd-4a9d-b624-9b6ccf7a9236",
   "metadata": {},
   "outputs": [],
   "source": [
    "cursor.close()"
   ]
  },
  {
   "cell_type": "code",
   "execution_count": null,
   "id": "07ddea29-9e96-4e41-8956-1601b5a7f003",
   "metadata": {},
   "outputs": [],
   "source": []
  }
 ],
 "metadata": {
  "kernelspec": {
   "display_name": "Python 3 (ipykernel)",
   "language": "python",
   "name": "python3"
  },
  "language_info": {
   "codemirror_mode": {
    "name": "ipython",
    "version": 3
   },
   "file_extension": ".py",
   "mimetype": "text/x-python",
   "name": "python",
   "nbconvert_exporter": "python",
   "pygments_lexer": "ipython3",
   "version": "3.11.9"
  }
 },
 "nbformat": 4,
 "nbformat_minor": 5
}
