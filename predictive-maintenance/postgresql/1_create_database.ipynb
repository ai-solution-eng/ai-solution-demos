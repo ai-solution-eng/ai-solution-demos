{
 "cells": [
  {
   "cell_type": "code",
   "execution_count": 1,
   "id": "73c0980a-58ff-497f-836d-eca0b2418a3e",
   "metadata": {},
   "outputs": [
    {
     "name": "stdout",
     "output_type": "stream",
     "text": [
      "Requirement already satisfied: psycopg in /opt/conda/lib/python3.11/site-packages (3.2.9)\n",
      "Requirement already satisfied: typing-extensions>=4.6 in /opt/conda/lib/python3.11/site-packages (from psycopg) (4.12.2)\n"
     ]
    }
   ],
   "source": [
    "!pip install psycopg"
   ]
  },
  {
   "cell_type": "code",
   "execution_count": 2,
   "id": "743ce840-c75e-41dd-9b52-2f31923e2041",
   "metadata": {},
   "outputs": [],
   "source": [
    "import psycopg"
   ]
  },
  {
   "cell_type": "markdown",
   "id": "17de0169-93cd-435c-b374-cfb28447ee3a",
   "metadata": {},
   "source": [
    "#### Get the password\n",
    "> k get secret -n postgresql postgresql -o jsonpath={.data.postgres-password} | base64 -d"
   ]
  },
  {
   "cell_type": "code",
   "execution_count": 3,
   "id": "b950429b-7197-4e78-9f6e-7e6f6cadd81b",
   "metadata": {},
   "outputs": [],
   "source": [
    "host='postgresql.postgresql.svc.cluster.local'\n",
    "dbname='postgres'\n",
    "user = 'postgres'\n",
    "password = 'nckCVmeUmD'\n",
    "port = '5432'"
   ]
  },
  {
   "cell_type": "code",
   "execution_count": 4,
   "id": "d426fb61-1ca9-4512-9cc0-f0e154d55451",
   "metadata": {},
   "outputs": [],
   "source": [
    "conn = psycopg.connect(\n",
    "    f\"host={host} dbname={dbname} user={user} password={password} port={port}\"\n",
    ") "
   ]
  },
  {
   "cell_type": "code",
   "execution_count": 5,
   "id": "71910e87-cf27-47c1-b5c1-0ff1980844d5",
   "metadata": {},
   "outputs": [],
   "source": [
    "conn.autocommit = True"
   ]
  },
  {
   "cell_type": "code",
   "execution_count": 6,
   "id": "7224c937-9142-444a-8587-50eb29773295",
   "metadata": {},
   "outputs": [],
   "source": [
    "cursor = conn.cursor()"
   ]
  },
  {
   "cell_type": "code",
   "execution_count": 7,
   "id": "1ee3da00-489c-4573-ad36-db80e8a96f75",
   "metadata": {},
   "outputs": [
    {
     "data": {
      "text/plain": [
       "<psycopg.Cursor [COMMAND_OK] [IDLE] (host=postgresql.postgresql.svc.cluster.local database=postgres) at 0x7f7ad7dfa8d0>"
      ]
     },
     "execution_count": 7,
     "metadata": {},
     "output_type": "execute_result"
    }
   ],
   "source": [
    "new_db = 'stapp'\n",
    "CREATE_DB = f'CREATE DATABASE {new_db}'\n",
    "\n",
    "cursor.execute(CREATE_DB)"
   ]
  },
  {
   "cell_type": "code",
   "execution_count": 8,
   "id": "44e0f43a-25a1-438f-bcec-ed5edc7ec61e",
   "metadata": {},
   "outputs": [
    {
     "data": {
      "text/plain": [
       "<psycopg.Cursor [COMMAND_OK] [IDLE] (host=postgresql.postgresql.svc.cluster.local database=postgres) at 0x7f7ad7dfa8d0>"
      ]
     },
     "execution_count": 8,
     "metadata": {},
     "output_type": "execute_result"
    }
   ],
   "source": [
    "new_user = 'stapp'\n",
    "new_passwd = 'stapp123'\n",
    "\n",
    "CREATE_USER = f'CREATE USER {new_user} WITH ENCRYPTED PASSWORD \\'{new_passwd}\\''\n",
    "cursor.execute(CREATE_USER)"
   ]
  },
  {
   "cell_type": "code",
   "execution_count": 9,
   "id": "2987a31b-56a0-4a66-9225-38391fabb7d7",
   "metadata": {},
   "outputs": [
    {
     "data": {
      "text/plain": [
       "<psycopg.Cursor [COMMAND_OK] [IDLE] (host=postgresql.postgresql.svc.cluster.local database=postgres) at 0x7f7ad7dfa8d0>"
      ]
     },
     "execution_count": 9,
     "metadata": {},
     "output_type": "execute_result"
    }
   ],
   "source": [
    "GRANT_USER = f'GRANT ALL PRIVILEGES ON DATABASE {new_db} TO {new_user}'\n",
    "cursor.execute(GRANT_USER)"
   ]
  },
  {
   "cell_type": "markdown",
   "id": "57abc9be-9e83-48a9-a026-9b90282a487f",
   "metadata": {},
   "source": [
    "![alt text](files/db_creation.png \"Title\")"
   ]
  },
  {
   "cell_type": "code",
   "execution_count": null,
   "id": "a52b49b0-5946-4ccf-b802-d87d8caa9cbe",
   "metadata": {},
   "outputs": [],
   "source": [
    "# new_user = 'stapp'\n",
    "# GRANT_SCHEMA = f\"GRANT ALL ON SCHEMA public TO {new_user}\"\n",
    "# cursor.execute(GRANT_SCHEMA)"
   ]
  },
  {
   "cell_type": "code",
   "execution_count": 10,
   "id": "e05ae5b6-5bb9-4b20-aab4-ee83af0f5109",
   "metadata": {},
   "outputs": [
    {
     "data": {
      "text/plain": [
       "<psycopg.Cursor [COMMAND_OK] [IDLE] (host=postgresql.postgresql.svc.cluster.local database=postgres) at 0x7f7ad7dfa8d0>"
      ]
     },
     "execution_count": 10,
     "metadata": {},
     "output_type": "execute_result"
    }
   ],
   "source": [
    "new_db = 'stapp'\n",
    "CHANGE_OWNER = f\"ALTER DATABASE {new_db} OWNER TO {new_user}\"\n",
    "cursor.execute(CHANGE_OWNER)"
   ]
  },
  {
   "cell_type": "markdown",
   "id": "6ffdda93-05d5-42e9-866e-2d8affc6bee2",
   "metadata": {},
   "source": [
    "![alt text](files/owner_change.png \"Title\")"
   ]
  },
  {
   "cell_type": "code",
   "execution_count": 11,
   "id": "06f63c29-43eb-4bc0-b97c-8ae8ed6cf33e",
   "metadata": {},
   "outputs": [],
   "source": [
    "cursor.close()"
   ]
  },
  {
   "cell_type": "code",
   "execution_count": 12,
   "id": "94640d08-a7fe-4240-b023-9110357b3b64",
   "metadata": {},
   "outputs": [],
   "source": [
    "conn.close()"
   ]
  },
  {
   "cell_type": "code",
   "execution_count": null,
   "id": "c056e90b-66dd-4707-85c8-2fcf3e0b28c8",
   "metadata": {},
   "outputs": [],
   "source": []
  }
 ],
 "metadata": {
  "kernelspec": {
   "display_name": "Python 3 (ipykernel)",
   "language": "python",
   "name": "python3"
  },
  "language_info": {
   "codemirror_mode": {
    "name": "ipython",
    "version": 3
   },
   "file_extension": ".py",
   "mimetype": "text/x-python",
   "name": "python",
   "nbconvert_exporter": "python",
   "pygments_lexer": "ipython3",
   "version": "3.11.9"
  }
 },
 "nbformat": 4,
 "nbformat_minor": 5
}
